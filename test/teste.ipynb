{
 "cells": [
  {
   "cell_type": "code",
   "execution_count": 1,
   "metadata": {},
   "outputs": [],
   "source": [
    "import os\n",
    "import sys\n",
    "module_path = os.path.abspath(os.path.join('..'))\n",
    "if module_path not in sys.path:\n",
    "    sys.path.append(module_path)"
   ]
  },
  {
   "cell_type": "code",
   "execution_count": 5,
   "metadata": {},
   "outputs": [],
   "source": [
    "from experimentos.RedeElastica import executar_teste as executar_elastico\n",
    "from experimentos.VoltaDaLinha import executar_teste as executar_linear"
   ]
  },
  {
   "cell_type": "code",
   "execution_count": 4,
   "metadata": {},
   "outputs": [
    {
     "name": "stdout",
     "output_type": "stream",
     "text": [
      "Elasticnet model (alpha=0.500000, l1_ratio=0.500000):\n",
      "  RMSE: 0.45234170352156694\n",
      "  MAE: 0.3617916149034755\n",
      "  R2: 0.0011425338059782852\n"
     ]
    }
   ],
   "source": [
    "executar_elastico()"
   ]
  },
  {
   "cell_type": "code",
   "execution_count": null,
   "metadata": {},
   "outputs": [],
   "source": [
    "executar_linear()"
   ]
  }
 ],
 "metadata": {
  "interpreter": {
   "hash": "b6c70f8b38bd432bddef151a36f1bd600c88ed9e2e38997cdec7a9d69f0f650a"
  },
  "kernelspec": {
   "display_name": "Python 3.8.10 64-bit ('.mlflow': venv)",
   "language": "python",
   "name": "python3"
  },
  "language_info": {
   "codemirror_mode": {
    "name": "ipython",
    "version": 3
   },
   "file_extension": ".py",
   "mimetype": "text/x-python",
   "name": "python",
   "nbconvert_exporter": "python",
   "pygments_lexer": "ipython3",
   "version": "3.8.10"
  },
  "orig_nbformat": 4
 },
 "nbformat": 4,
 "nbformat_minor": 2
}
